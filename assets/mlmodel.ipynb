{
 "cells": [
  {
   "cell_type": "code",
   "execution_count": 1,
   "metadata": {},
   "outputs": [],
   "source": [
    "import pandas as pd\n",
    "import pandas_datareader as data\n",
    "import numpy as np\n",
    "from matplotlib.pyplot import plt"
   ]
  },
  {
   "cell_type": "code",
   "execution_count": 2,
   "metadata": {},
   "outputs": [
    {
     "data": {
      "text/html": [
       "<div>\n",
       "<style scoped>\n",
       "    .dataframe tbody tr th:only-of-type {\n",
       "        vertical-align: middle;\n",
       "    }\n",
       "\n",
       "    .dataframe tbody tr th {\n",
       "        vertical-align: top;\n",
       "    }\n",
       "\n",
       "    .dataframe thead th {\n",
       "        text-align: right;\n",
       "    }\n",
       "</style>\n",
       "<table border=\"1\" class=\"dataframe\">\n",
       "  <thead>\n",
       "    <tr style=\"text-align: right;\">\n",
       "      <th></th>\n",
       "      <th>High</th>\n",
       "      <th>Low</th>\n",
       "      <th>Open</th>\n",
       "      <th>Close</th>\n",
       "      <th>Volume</th>\n",
       "      <th>Adj Close</th>\n",
       "    </tr>\n",
       "    <tr>\n",
       "      <th>Date</th>\n",
       "      <th></th>\n",
       "      <th></th>\n",
       "      <th></th>\n",
       "      <th></th>\n",
       "      <th></th>\n",
       "      <th></th>\n",
       "    </tr>\n",
       "  </thead>\n",
       "  <tbody>\n",
       "    <tr>\n",
       "      <th>2012-01-03</th>\n",
       "      <td>14.732143</td>\n",
       "      <td>14.607143</td>\n",
       "      <td>14.621429</td>\n",
       "      <td>14.686786</td>\n",
       "      <td>302220800.0</td>\n",
       "      <td>12.591942</td>\n",
       "    </tr>\n",
       "    <tr>\n",
       "      <th>2012-01-04</th>\n",
       "      <td>14.810000</td>\n",
       "      <td>14.617143</td>\n",
       "      <td>14.642857</td>\n",
       "      <td>14.765714</td>\n",
       "      <td>260022000.0</td>\n",
       "      <td>12.659609</td>\n",
       "    </tr>\n",
       "    <tr>\n",
       "      <th>2012-01-05</th>\n",
       "      <td>14.948214</td>\n",
       "      <td>14.738214</td>\n",
       "      <td>14.819643</td>\n",
       "      <td>14.929643</td>\n",
       "      <td>271269600.0</td>\n",
       "      <td>12.800158</td>\n",
       "    </tr>\n",
       "    <tr>\n",
       "      <th>2012-01-06</th>\n",
       "      <td>15.098214</td>\n",
       "      <td>14.972143</td>\n",
       "      <td>14.991786</td>\n",
       "      <td>15.085714</td>\n",
       "      <td>318292800.0</td>\n",
       "      <td>12.933966</td>\n",
       "    </tr>\n",
       "    <tr>\n",
       "      <th>2012-01-09</th>\n",
       "      <td>15.276786</td>\n",
       "      <td>15.048214</td>\n",
       "      <td>15.196429</td>\n",
       "      <td>15.061786</td>\n",
       "      <td>394024400.0</td>\n",
       "      <td>12.913446</td>\n",
       "    </tr>\n",
       "  </tbody>\n",
       "</table>\n",
       "</div>"
      ],
      "text/plain": [
       "                 High        Low       Open      Close       Volume  Adj Close\n",
       "Date                                                                          \n",
       "2012-01-03  14.732143  14.607143  14.621429  14.686786  302220800.0  12.591942\n",
       "2012-01-04  14.810000  14.617143  14.642857  14.765714  260022000.0  12.659609\n",
       "2012-01-05  14.948214  14.738214  14.819643  14.929643  271269600.0  12.800158\n",
       "2012-01-06  15.098214  14.972143  14.991786  15.085714  318292800.0  12.933966\n",
       "2012-01-09  15.276786  15.048214  15.196429  15.061786  394024400.0  12.913446"
      ]
     },
     "execution_count": 2,
     "metadata": {},
     "output_type": "execute_result"
    }
   ],
   "source": [
    "#get stock data\n",
    "start='2012-1-1'\n",
    "end='2022-1-3'\n",
    "df=data.DataReader('AAPL','yahoo',start,end)\n",
    "df.head()"
   ]
  },
  {
   "cell_type": "code",
   "execution_count": 3,
   "metadata": {},
   "outputs": [
    {
     "data": {
      "text/html": [
       "<div>\n",
       "<style scoped>\n",
       "    .dataframe tbody tr th:only-of-type {\n",
       "        vertical-align: middle;\n",
       "    }\n",
       "\n",
       "    .dataframe tbody tr th {\n",
       "        vertical-align: top;\n",
       "    }\n",
       "\n",
       "    .dataframe thead th {\n",
       "        text-align: right;\n",
       "    }\n",
       "</style>\n",
       "<table border=\"1\" class=\"dataframe\">\n",
       "  <thead>\n",
       "    <tr style=\"text-align: right;\">\n",
       "      <th></th>\n",
       "      <th>High</th>\n",
       "      <th>Low</th>\n",
       "      <th>Open</th>\n",
       "      <th>Close</th>\n",
       "      <th>Volume</th>\n",
       "    </tr>\n",
       "  </thead>\n",
       "  <tbody>\n",
       "    <tr>\n",
       "      <th>0</th>\n",
       "      <td>14.732143</td>\n",
       "      <td>14.607143</td>\n",
       "      <td>14.621429</td>\n",
       "      <td>14.686786</td>\n",
       "      <td>302220800.0</td>\n",
       "    </tr>\n",
       "    <tr>\n",
       "      <th>1</th>\n",
       "      <td>14.810000</td>\n",
       "      <td>14.617143</td>\n",
       "      <td>14.642857</td>\n",
       "      <td>14.765714</td>\n",
       "      <td>260022000.0</td>\n",
       "    </tr>\n",
       "    <tr>\n",
       "      <th>2</th>\n",
       "      <td>14.948214</td>\n",
       "      <td>14.738214</td>\n",
       "      <td>14.819643</td>\n",
       "      <td>14.929643</td>\n",
       "      <td>271269600.0</td>\n",
       "    </tr>\n",
       "    <tr>\n",
       "      <th>3</th>\n",
       "      <td>15.098214</td>\n",
       "      <td>14.972143</td>\n",
       "      <td>14.991786</td>\n",
       "      <td>15.085714</td>\n",
       "      <td>318292800.0</td>\n",
       "    </tr>\n",
       "    <tr>\n",
       "      <th>4</th>\n",
       "      <td>15.276786</td>\n",
       "      <td>15.048214</td>\n",
       "      <td>15.196429</td>\n",
       "      <td>15.061786</td>\n",
       "      <td>394024400.0</td>\n",
       "    </tr>\n",
       "  </tbody>\n",
       "</table>\n",
       "</div>"
      ],
      "text/plain": [
       "        High        Low       Open      Close       Volume\n",
       "0  14.732143  14.607143  14.621429  14.686786  302220800.0\n",
       "1  14.810000  14.617143  14.642857  14.765714  260022000.0\n",
       "2  14.948214  14.738214  14.819643  14.929643  271269600.0\n",
       "3  15.098214  14.972143  14.991786  15.085714  318292800.0\n",
       "4  15.276786  15.048214  15.196429  15.061786  394024400.0"
      ]
     },
     "execution_count": 3,
     "metadata": {},
     "output_type": "execute_result"
    }
   ],
   "source": [
    "df=df.reset_index()\n",
    "df=df.drop(['Date','Adj Close'],axis=1)\n",
    "df.head()"
   ]
  },
  {
   "cell_type": "code",
   "execution_count": 4,
   "metadata": {},
   "outputs": [
    {
     "data": {
      "text/plain": [
       "0            NaN\n",
       "1            NaN\n",
       "2            NaN\n",
       "3            NaN\n",
       "4            NaN\n",
       "          ...   \n",
       "2513    153.6667\n",
       "2514    153.9991\n",
       "2515    154.3202\n",
       "2516    154.6399\n",
       "2517    155.0014\n",
       "Name: Close, Length: 2518, dtype: float64"
      ]
     },
     "execution_count": 4,
     "metadata": {},
     "output_type": "execute_result"
    }
   ],
   "source": [
    "ma100=df.Close.rolling(100).mean()\n",
    "ma100"
   ]
  },
  {
   "cell_type": "code",
   "execution_count": 5,
   "metadata": {},
   "outputs": [
    {
     "data": {
      "text/plain": [
       "0             NaN\n",
       "1             NaN\n",
       "2             NaN\n",
       "3             NaN\n",
       "4             NaN\n",
       "          ...    \n",
       "2513    143.13220\n",
       "2514    143.40125\n",
       "2515    143.66845\n",
       "2516    143.95365\n",
       "2517    144.26375\n",
       "Name: Close, Length: 2518, dtype: float64"
      ]
     },
     "execution_count": 5,
     "metadata": {},
     "output_type": "execute_result"
    }
   ],
   "source": [
    "ma200=df.Close.rolling(200).mean()\n",
    "ma200"
   ]
  },
  {
   "cell_type": "code",
   "execution_count": 6,
   "metadata": {},
   "outputs": [
    {
     "data": {
      "text/plain": [
       "(2518, 5)"
      ]
     },
     "execution_count": 6,
     "metadata": {},
     "output_type": "execute_result"
    }
   ],
   "source": [
    "df.shape"
   ]
  },
  {
   "cell_type": "code",
   "execution_count": 7,
   "metadata": {},
   "outputs": [
    {
     "name": "stdout",
     "output_type": "stream",
     "text": [
      "(1762, 1)\n",
      "(756, 1)\n"
     ]
    }
   ],
   "source": [
    "#spliting data into Training and Testing\n",
    "data_training=pd.DataFrame(df['Close'][0:int(len(df)*0.70)])\n",
    "data_testing=pd.DataFrame(df['Close'][int(len(df)*0.70):int(len(df))])\n",
    "print(data_training.shape)\n",
    "print(data_testing.shape)"
   ]
  },
  {
   "cell_type": "code",
   "execution_count": 9,
   "metadata": {},
   "outputs": [
    {
     "data": {
      "text/html": [
       "<div>\n",
       "<style scoped>\n",
       "    .dataframe tbody tr th:only-of-type {\n",
       "        vertical-align: middle;\n",
       "    }\n",
       "\n",
       "    .dataframe tbody tr th {\n",
       "        vertical-align: top;\n",
       "    }\n",
       "\n",
       "    .dataframe thead th {\n",
       "        text-align: right;\n",
       "    }\n",
       "</style>\n",
       "<table border=\"1\" class=\"dataframe\">\n",
       "  <thead>\n",
       "    <tr style=\"text-align: right;\">\n",
       "      <th></th>\n",
       "      <th>Close</th>\n",
       "    </tr>\n",
       "  </thead>\n",
       "  <tbody>\n",
       "    <tr>\n",
       "      <th>0</th>\n",
       "      <td>14.686786</td>\n",
       "    </tr>\n",
       "    <tr>\n",
       "      <th>1</th>\n",
       "      <td>14.765714</td>\n",
       "    </tr>\n",
       "    <tr>\n",
       "      <th>2</th>\n",
       "      <td>14.929643</td>\n",
       "    </tr>\n",
       "    <tr>\n",
       "      <th>3</th>\n",
       "      <td>15.085714</td>\n",
       "    </tr>\n",
       "    <tr>\n",
       "      <th>4</th>\n",
       "      <td>15.061786</td>\n",
       "    </tr>\n",
       "  </tbody>\n",
       "</table>\n",
       "</div>"
      ],
      "text/plain": [
       "       Close\n",
       "0  14.686786\n",
       "1  14.765714\n",
       "2  14.929643\n",
       "3  15.085714\n",
       "4  15.061786"
      ]
     },
     "execution_count": 9,
     "metadata": {},
     "output_type": "execute_result"
    }
   ],
   "source": [
    "data_training.head()"
   ]
  },
  {
   "cell_type": "code",
   "execution_count": 10,
   "metadata": {},
   "outputs": [
    {
     "data": {
      "text/html": [
       "<div>\n",
       "<style scoped>\n",
       "    .dataframe tbody tr th:only-of-type {\n",
       "        vertical-align: middle;\n",
       "    }\n",
       "\n",
       "    .dataframe tbody tr th {\n",
       "        vertical-align: top;\n",
       "    }\n",
       "\n",
       "    .dataframe thead th {\n",
       "        text-align: right;\n",
       "    }\n",
       "</style>\n",
       "<table border=\"1\" class=\"dataframe\">\n",
       "  <thead>\n",
       "    <tr style=\"text-align: right;\">\n",
       "      <th></th>\n",
       "      <th>Close</th>\n",
       "    </tr>\n",
       "  </thead>\n",
       "  <tbody>\n",
       "    <tr>\n",
       "      <th>1762</th>\n",
       "      <td>37.064999</td>\n",
       "    </tr>\n",
       "    <tr>\n",
       "      <th>1763</th>\n",
       "      <td>36.982498</td>\n",
       "    </tr>\n",
       "    <tr>\n",
       "      <th>1764</th>\n",
       "      <td>37.687500</td>\n",
       "    </tr>\n",
       "    <tr>\n",
       "      <th>1765</th>\n",
       "      <td>38.327499</td>\n",
       "    </tr>\n",
       "    <tr>\n",
       "      <th>1766</th>\n",
       "      <td>38.450001</td>\n",
       "    </tr>\n",
       "  </tbody>\n",
       "</table>\n",
       "</div>"
      ],
      "text/plain": [
       "          Close\n",
       "1762  37.064999\n",
       "1763  36.982498\n",
       "1764  37.687500\n",
       "1765  38.327499\n",
       "1766  38.450001"
      ]
     },
     "execution_count": 10,
     "metadata": {},
     "output_type": "execute_result"
    }
   ],
   "source": [
    "data_testing.head()"
   ]
  },
  {
   "cell_type": "code",
   "execution_count": 12,
   "metadata": {},
   "outputs": [],
   "source": [
    "from sklearn.preprocessing import MinMaxScaler\n",
    "scaler=MinMaxScaler(feature_range=(0,1))\n"
   ]
  },
  {
   "cell_type": "code",
   "execution_count": 15,
   "metadata": {},
   "outputs": [
    {
     "data": {
      "text/plain": [
       "array([[0.01677525],\n",
       "       [0.01856622],\n",
       "       [0.02228596],\n",
       "       ...,\n",
       "       [0.57834128],\n",
       "       [0.57936234],\n",
       "       [0.49012933]])"
      ]
     },
     "execution_count": 15,
     "metadata": {},
     "output_type": "execute_result"
    }
   ],
   "source": [
    "data_training_array=scaler.fit_transform(data_training)\n",
    "data_training_array"
   ]
  },
  {
   "cell_type": "code",
   "execution_count": 17,
   "metadata": {},
   "outputs": [],
   "source": [
    "x_train=[]\n",
    "y_train=[]\n",
    "\n",
    "for i in range(100,data_training_array.shape[0]):\n",
    "    x_train.append(data_training_array[i-100:i])\n",
    "    y_train.append(data_training_array[i,0])\n",
    "x_train,y_train=np.array(x_train),np.array(y_train)"
   ]
  },
  {
   "cell_type": "code",
   "execution_count": 19,
   "metadata": {},
   "outputs": [
    {
     "data": {
      "text/plain": [
       "(1662, 100, 1)"
      ]
     },
     "execution_count": 19,
     "metadata": {},
     "output_type": "execute_result"
    }
   ],
   "source": [
    "x_train.shape"
   ]
  },
  {
   "cell_type": "code",
   "execution_count": 18,
   "metadata": {},
   "outputs": [],
   "source": [
    "#ml model"
   ]
  },
  {
   "cell_type": "code",
   "execution_count": 20,
   "metadata": {},
   "outputs": [],
   "source": [
    "from keras.layers import Dense,Dropout,LSTM\n",
    "from keras.models import Sequential"
   ]
  },
  {
   "cell_type": "code",
   "execution_count": 21,
   "metadata": {},
   "outputs": [],
   "source": [
    "model=Sequential()\n",
    "model.add(LSTM(units=50,activation='relu',return_sequences=True,input_shape=(x_train.shape[1],1)))\n",
    "model.add(Dropout(0.2))\n",
    "\n",
    "\n",
    "\n",
    "model.add(LSTM(units=60,activation='relu',return_sequences=True))\n",
    "model.add(Dropout(0.3))\n",
    "\n",
    "\n",
    "\n",
    "model.add(LSTM(units=80,activation='relu',return_sequences=True))\n",
    "model.add(Dropout(0.4))\n",
    "\n",
    "\n",
    "\n",
    "\n",
    "model.add(LSTM(units=120,activation='relu',return_sequences=True))\n",
    "model.add(Dropout(0.5))\n",
    "\n",
    "model.add(Dense(units=1))"
   ]
  },
  {
   "cell_type": "code",
   "execution_count": 22,
   "metadata": {},
   "outputs": [
    {
     "name": "stdout",
     "output_type": "stream",
     "text": [
      "Model: \"sequential\"\n",
      "_________________________________________________________________\n",
      " Layer (type)                Output Shape              Param #   \n",
      "=================================================================\n",
      " lstm (LSTM)                 (None, 100, 50)           10400     \n",
      "                                                                 \n",
      " dropout (Dropout)           (None, 100, 50)           0         \n",
      "                                                                 \n",
      " lstm_1 (LSTM)               (None, 100, 60)           26640     \n",
      "                                                                 \n",
      " dropout_1 (Dropout)         (None, 100, 60)           0         \n",
      "                                                                 \n",
      " lstm_2 (LSTM)               (None, 100, 80)           45120     \n",
      "                                                                 \n",
      " dropout_2 (Dropout)         (None, 100, 80)           0         \n",
      "                                                                 \n",
      " lstm_3 (LSTM)               (None, 100, 120)          96480     \n",
      "                                                                 \n",
      " dropout_3 (Dropout)         (None, 100, 120)          0         \n",
      "                                                                 \n",
      " dense (Dense)               (None, 100, 1)            121       \n",
      "                                                                 \n",
      "=================================================================\n",
      "Total params: 178,761\n",
      "Trainable params: 178,761\n",
      "Non-trainable params: 0\n",
      "_________________________________________________________________\n"
     ]
    }
   ],
   "source": [
    "model.summary()"
   ]
  },
  {
   "cell_type": "code",
   "execution_count": 23,
   "metadata": {},
   "outputs": [
    {
     "name": "stdout",
     "output_type": "stream",
     "text": [
      "Epoch 1/50\n",
      "52/52 [==============================] - 14s 182ms/step - loss: 0.0753\n",
      "Epoch 2/50\n",
      "52/52 [==============================] - 10s 195ms/step - loss: 0.0593\n",
      "Epoch 3/50\n",
      "52/52 [==============================] - 10s 188ms/step - loss: 0.0582\n",
      "Epoch 4/50\n",
      "52/52 [==============================] - 10s 195ms/step - loss: 0.0574\n",
      "Epoch 5/50\n",
      "52/52 [==============================] - 12s 223ms/step - loss: 0.0571\n",
      "Epoch 6/50\n",
      "52/52 [==============================] - 11s 217ms/step - loss: 0.0569\n",
      "Epoch 7/50\n",
      "52/52 [==============================] - 12s 227ms/step - loss: 0.0569\n",
      "Epoch 8/50\n",
      "52/52 [==============================] - 11s 214ms/step - loss: 0.0563\n",
      "Epoch 9/50\n",
      "52/52 [==============================] - 12s 228ms/step - loss: 0.0560\n",
      "Epoch 10/50\n",
      "52/52 [==============================] - 10s 195ms/step - loss: 0.0558\n",
      "Epoch 11/50\n",
      "52/52 [==============================] - 10s 198ms/step - loss: 0.0556\n",
      "Epoch 12/50\n",
      "52/52 [==============================] - 10s 197ms/step - loss: 0.0563\n",
      "Epoch 13/50\n",
      "52/52 [==============================] - 10s 196ms/step - loss: 0.0553\n",
      "Epoch 14/50\n",
      "52/52 [==============================] - 10s 199ms/step - loss: 0.0554\n",
      "Epoch 15/50\n",
      "52/52 [==============================] - 10s 195ms/step - loss: 0.0559\n",
      "Epoch 16/50\n",
      "52/52 [==============================] - 10s 196ms/step - loss: 0.05530s - loss: 0.055\n",
      "Epoch 17/50\n",
      "52/52 [==============================] - 10s 198ms/step - loss: 0.0552\n",
      "Epoch 18/50\n",
      "52/52 [==============================] - 10s 194ms/step - loss: 0.0549\n",
      "Epoch 19/50\n",
      "52/52 [==============================] - 10s 196ms/step - loss: 0.0553\n",
      "Epoch 20/50\n",
      "52/52 [==============================] - 10s 195ms/step - loss: 0.0549\n",
      "Epoch 21/50\n",
      "52/52 [==============================] - 10s 196ms/step - loss: 0.0549\n",
      "Epoch 22/50\n",
      "52/52 [==============================] - 10s 196ms/step - loss: 0.0550\n",
      "Epoch 23/50\n",
      "52/52 [==============================] - 10s 199ms/step - loss: 0.0548\n",
      "Epoch 24/50\n",
      "52/52 [==============================] - 10s 192ms/step - loss: 0.0547\n",
      "Epoch 25/50\n",
      "52/52 [==============================] - 10s 189ms/step - loss: 0.0548\n",
      "Epoch 26/50\n",
      "52/52 [==============================] - 10s 187ms/step - loss: 0.0549\n",
      "Epoch 27/50\n",
      "52/52 [==============================] - 9s 177ms/step - loss: 0.0547\n",
      "Epoch 28/50\n",
      "52/52 [==============================] - 9s 174ms/step - loss: 0.0547\n",
      "Epoch 29/50\n",
      "52/52 [==============================] - 9s 176ms/step - loss: 0.0547\n",
      "Epoch 30/50\n",
      "52/52 [==============================] - 9s 176ms/step - loss: 0.0547\n",
      "Epoch 31/50\n",
      "52/52 [==============================] - 9s 175ms/step - loss: 0.0546\n",
      "Epoch 32/50\n",
      "52/52 [==============================] - 9s 175ms/step - loss: 0.0547\n",
      "Epoch 33/50\n",
      "52/52 [==============================] - 9s 176ms/step - loss: 0.0546\n",
      "Epoch 34/50\n",
      "52/52 [==============================] - 9s 177ms/step - loss: 0.0546\n",
      "Epoch 35/50\n",
      "52/52 [==============================] - 9s 177ms/step - loss: 0.0546\n",
      "Epoch 36/50\n",
      "52/52 [==============================] - 9s 174ms/step - loss: 0.0546\n",
      "Epoch 37/50\n",
      "52/52 [==============================] - 9s 176ms/step - loss: 0.0547\n",
      "Epoch 38/50\n",
      "52/52 [==============================] - 9s 177ms/step - loss: 0.0545\n",
      "Epoch 39/50\n",
      "52/52 [==============================] - 9s 175ms/step - loss: 0.0546\n",
      "Epoch 40/50\n",
      "52/52 [==============================] - 9s 177ms/step - loss: 0.0545\n",
      "Epoch 41/50\n",
      "52/52 [==============================] - 9s 176ms/step - loss: 0.0546\n",
      "Epoch 42/50\n",
      "52/52 [==============================] - 9s 181ms/step - loss: 0.0545\n",
      "Epoch 43/50\n",
      "52/52 [==============================] - 9s 173ms/step - loss: 0.0544\n",
      "Epoch 44/50\n",
      "52/52 [==============================] - 9s 177ms/step - loss: 0.0544\n",
      "Epoch 45/50\n",
      "52/52 [==============================] - 9s 174ms/step - loss: 0.0544\n",
      "Epoch 46/50\n",
      "52/52 [==============================] - 9s 176ms/step - loss: 0.0546\n",
      "Epoch 47/50\n",
      "52/52 [==============================] - 9s 178ms/step - loss: 0.0544\n",
      "Epoch 48/50\n",
      "52/52 [==============================] - 9s 179ms/step - loss: 0.0544\n",
      "Epoch 49/50\n",
      "52/52 [==============================] - 11s 203ms/step - loss: 0.0543\n",
      "Epoch 50/50\n",
      "52/52 [==============================] - 13s 255ms/step - loss: 0.0544\n"
     ]
    },
    {
     "data": {
      "text/plain": [
       "<keras.callbacks.History at 0x187ed4164f0>"
      ]
     },
     "execution_count": 23,
     "metadata": {},
     "output_type": "execute_result"
    }
   ],
   "source": [
    "model.compile(optimizer='adam',loss='mean_squared_error')\n",
    "model.fit(x_train,y_train,epochs=50)"
   ]
  },
  {
   "cell_type": "code",
   "execution_count": 1,
   "metadata": {},
   "outputs": [
    {
     "ename": "NameError",
     "evalue": "name 'model' is not defined",
     "output_type": "error",
     "traceback": [
      "\u001b[1;31m---------------------------------------------------------------------------\u001b[0m",
      "\u001b[1;31mNameError\u001b[0m                                 Traceback (most recent call last)",
      "\u001b[1;32m~\\AppData\\Local\\Temp/ipykernel_10292/4131087026.py\u001b[0m in \u001b[0;36m<module>\u001b[1;34m\u001b[0m\n\u001b[1;32m----> 1\u001b[1;33m \u001b[0mmodel\u001b[0m\u001b[1;33m.\u001b[0m\u001b[0msave\u001b[0m\u001b[1;33m(\u001b[0m\u001b[1;34m'keras_model.h5'\u001b[0m\u001b[1;33m)\u001b[0m\u001b[1;33m\u001b[0m\u001b[1;33m\u001b[0m\u001b[0m\n\u001b[0m",
      "\u001b[1;31mNameError\u001b[0m: name 'model' is not defined"
     ]
    }
   ],
   "source": [
    "model.save('kerasml.h5')"
   ]
  }
 ],
 "metadata": {
  "interpreter": {
   "hash": "ae0b014b5a8ffb0ba6bca1f3622c3c0bffa90e49ae25bf04f4514d0f1362bf73"
  },
  "kernelspec": {
   "display_name": "Python 3.9.1 64-bit",
   "language": "python",
   "name": "python3"
  },
  "language_info": {
   "codemirror_mode": {
    "name": "ipython",
    "version": 3
   },
   "file_extension": ".py",
   "mimetype": "text/x-python",
   "name": "python",
   "nbconvert_exporter": "python",
   "pygments_lexer": "ipython3",
   "version": "3.9.1"
  },
  "orig_nbformat": 4
 },
 "nbformat": 4,
 "nbformat_minor": 2
}
